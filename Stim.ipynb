{
  "nbformat": 4,
  "nbformat_minor": 0,
  "metadata": {
    "colab": {
      "name": "Stim.ipynb",
      "provenance": [],
      "authorship_tag": "ABX9TyMbLq+dZ4YecAODvD8QeFsQ",
      "include_colab_link": true
    },
    "kernelspec": {
      "name": "python3",
      "display_name": "Python 3"
    },
    "language_info": {
      "name": "python"
    }
  },
  "cells": [
    {
      "cell_type": "markdown",
      "metadata": {
        "id": "view-in-github",
        "colab_type": "text"
      },
      "source": [
        "<a href=\"https://colab.research.google.com/github/anonymousr007/100daysofpennylane/blob/main/Stim.ipynb\" target=\"_parent\"><img src=\"https://colab.research.google.com/assets/colab-badge.svg\" alt=\"Open In Colab\"/></a>"
      ]
    },
    {
      "cell_type": "markdown",
      "source": [
        "# Stim: a fast stabilizer circuit simulator\n",
        "\n",
        "- “Stim\", a fast simulator for quantum stabilizer circuits.\n",
        "\n",
        "- Stim can analyze a distance 100 surface code circuit (20 thousand qubits, 8 million gates, 1 million measurements) in 15 seconds & begin sampling full circuit shots at a rate of 1 kHz.\n",
        "\n",
        "- Stim uses a stabilizer tableau representation, similar to Aaronson and Gottesman’s CHP simulator, but with three main improvements.\n",
        "  - First, Stim improves the asymptotic complexity of deterministic measurement from quadratic to linear by tracking the inverse of the circuit’s stabilizer tableau.\n",
        "  - Second, Stim improves the constant factors of the algorithm\n",
        "by using a cache-friendly data layout and 256 bit wide SIMD instructions.\n",
        "\n",
        "  - Third, Stim only uses expensive stabilizer tableau simulation to create an initial reference sample. Further\n",
        "samples are collected in bulk by using that sample as a reference for batches of Pauli frames\n",
        "propagating through the circuit.\n"
      ],
      "metadata": {
        "id": "aOuiE89FQoy_"
      }
    },
    {
      "cell_type": "markdown",
      "source": [
        ""
      ],
      "metadata": {
        "id": "7DQ9A_iPRaEe"
      }
    }
  ]
}